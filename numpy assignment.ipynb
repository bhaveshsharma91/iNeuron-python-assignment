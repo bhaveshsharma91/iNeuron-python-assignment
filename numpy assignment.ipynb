{
 "cells": [
  {
   "cell_type": "code",
   "execution_count": 2,
   "metadata": {},
   "outputs": [],
   "source": [
    "import numpy as np"
   ]
  },
  {
   "cell_type": "code",
   "execution_count": 19,
   "metadata": {},
   "outputs": [
    {
     "data": {
      "text/plain": [
       "matrix([[  1,   1,   1,   1],\n",
       "        [  2,   4,   8,  16],\n",
       "        [  3,   9,  27,  81],\n",
       "        [  4,  16,  64, 256]])"
      ]
     },
     "execution_count": 19,
     "metadata": {},
     "output_type": "execute_result"
    }
   ],
   "source": [
    "# 1.  Write a function so that the columns of the output matrix are powers of the input vector. \n",
    "\n",
    "def col_pow(col):\n",
    "    n = len(col)\n",
    "    return np.mat([ [pow(x,i) for i in range(1,n+1)] for x in col ])\n",
    "    \n",
    "col = [1,2,3,4]\n",
    "\n",
    "col_pow(col)"
   ]
  },
  {
   "cell_type": "code",
   "execution_count": 28,
   "metadata": {},
   "outputs": [
    {
     "name": "stdout",
     "output_type": "stream",
     "text": [
      "elements for moving average are as below: \n",
      "\n",
      "y1  15 = sum([3, 5, 7])/3\n",
      "y2  14 = sum([5, 7, 2])/3\n",
      "y3  17 = sum([7, 2, 8])/3\n",
      "y4  20 = sum([2, 8, 10])/3\n",
      "y5  29 = sum([8, 10, 11])/3\n",
      "y6  86 = sum([10, 11, 65])/3\n",
      "y7  148 = sum([11, 65, 72])/3\n",
      "y8  218 = sum([65, 72, 81])/3\n",
      "y9  252 = sum([72, 81, 99])/3\n",
      "y10  280 = sum([81, 99, 100])/3\n",
      "y11  349 = sum([99, 100, 150])/3\n",
      "\n",
      "Therefore the moving average sequence has 11 values\n"
     ]
    }
   ],
   "source": [
    "# 2. Given a sequence of n values x1, x2, ..., xn and a window size k>0, the k-th moving average of the given sequence is defined as follows: \n",
    "\n",
    "# The moving average sequence has n-k+1 elements as shown below\n",
    "\n",
    "# The moving averages with k=4 of a ten-value sequence (n=10) is shown below \n",
    "\n",
    "vals =  [3, 5, 7, 2, 8, 10, 11, 65, 72, 81, 99, 100, 150]\n",
    "k = 3\n",
    "\n",
    "def moving_avg(vals,k):\n",
    "    arr = [[vals[x] for x in range(i,i+k)] for i in range(0,len(vals)-k+1) ]\n",
    "    print('elements for moving average are as below: \\n')\n",
    "    for i in range(len(vals)-k+1):\n",
    "        print('y{0}  {1} = sum({2})/{3}'.format(str(i+1), str(sum(arr[i])), str(arr[i]), k ))\n",
    "        \n",
    "    print('\\nTherefore the moving average sequence has {} values'.format(str(len(vals)-k+1)))\n",
    "    \n",
    "    \n",
    "    \n",
    "moving_avg(vals,k)"
   ]
  },
  {
   "cell_type": "code",
   "execution_count": null,
   "metadata": {},
   "outputs": [],
   "source": []
  }
 ],
 "metadata": {
  "kernelspec": {
   "display_name": "Python 3",
   "language": "python",
   "name": "python3"
  },
  "language_info": {
   "codemirror_mode": {
    "name": "ipython",
    "version": 3
   },
   "file_extension": ".py",
   "mimetype": "text/x-python",
   "name": "python",
   "nbconvert_exporter": "python",
   "pygments_lexer": "ipython3",
   "version": "3.8.3"
  }
 },
 "nbformat": 4,
 "nbformat_minor": 4
}
