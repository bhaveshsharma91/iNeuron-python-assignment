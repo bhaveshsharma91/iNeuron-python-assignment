{
 "cells": [
  {
   "cell_type": "code",
   "execution_count": 1,
   "metadata": {},
   "outputs": [
    {
     "data": {
      "text/plain": [
       "6.0"
      ]
     },
     "execution_count": 1,
     "metadata": {},
     "output_type": "execute_result"
    }
   ],
   "source": [
    "1.1\n",
    "\n",
    "class tri1():\n",
    "    def __init__(self, a,b,c):\n",
    "        self.a = a\n",
    "        self.b = b\n",
    "        self.c = c\n",
    "        self.s = (a+b+c)/2\n",
    "\n",
    "class tri2(tri1):\n",
    "    def __init__(self, a,b,c):\n",
    "        tri1.__init__(self,a,b,c)\n",
    "        \n",
    "    def area(self):\n",
    "        s = (self.a+self.b+self.c)/2\n",
    "        area = (s*(s-self.a)*(s-self.b)*(s- self.c))**0.5\n",
    "        return area\n",
    "    \n",
    "triangle = tri2(3,4,5)\n",
    "triangle.area()"
   ]
  },
  {
   "cell_type": "code",
   "execution_count": 2,
   "metadata": {},
   "outputs": [
    {
     "name": "stdout",
     "output_type": "stream",
     "text": [
      "['hello', 'jack', 'christmas']\n"
     ]
    }
   ],
   "source": [
    "1.2\n",
    "\n",
    "def filter_long_words(lis,n):\n",
    "    output = []\n",
    "    for word in lis:\n",
    "        if len(word)>n:\n",
    "            output.append(word)\n",
    "    return output\n",
    "\n",
    "print(filter_long_words(['hello','hi','jack','try','christmas'],3))"
   ]
  },
  {
   "cell_type": "code",
   "execution_count": 3,
   "metadata": {},
   "outputs": [
    {
     "data": {
      "text/plain": [
       "[5, 2, 4, 3, 9]"
      ]
     },
     "execution_count": 3,
     "metadata": {},
     "output_type": "execute_result"
    }
   ],
   "source": [
    "2.1\n",
    "\n",
    "def word_len(words):\n",
    "    output = []\n",
    "    for word in words:\n",
    "        output.append(len(word))\n",
    "    return output\n",
    "\n",
    "word_len(['hello','hi','jack','try','christmas'])"
   ]
  },
  {
   "cell_type": "code",
   "execution_count": 4,
   "metadata": {},
   "outputs": [
    {
     "name": "stdout",
     "output_type": "stream",
     "text": [
      "True\n",
      "False\n"
     ]
    }
   ],
   "source": [
    "2.2\n",
    "\n",
    "def is_vowel(letter):\n",
    "    if letter in r'[aeiou]|[AEIOU]':\n",
    "        return True\n",
    "    else:\n",
    "        return False\n",
    "    \n",
    "    \n",
    "print(is_vowel('a'))\n",
    "print(is_vowel('t'))"
   ]
  },
  {
   "cell_type": "code",
   "execution_count": null,
   "metadata": {},
   "outputs": [],
   "source": []
  }
 ],
 "metadata": {
  "kernelspec": {
   "display_name": "Python 3",
   "language": "python",
   "name": "python3"
  },
  "language_info": {
   "codemirror_mode": {
    "name": "ipython",
    "version": 3
   },
   "file_extension": ".py",
   "mimetype": "text/x-python",
   "name": "python",
   "nbconvert_exporter": "python",
   "pygments_lexer": "ipython3",
   "version": "3.8.3"
  }
 },
 "nbformat": 4,
 "nbformat_minor": 4
}
